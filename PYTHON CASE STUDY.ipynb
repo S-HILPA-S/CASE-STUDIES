{
 "cells": [
  {
   "cell_type": "markdown",
   "metadata": {
    "id": "zVV_KMSIUG-A"
   },
   "source": [
    "# Answer the following questions using only builtin Python datatypes and functions. Do not use Numpy or Scipy (i.e. No library imports allowed)"
   ]
  },
  {
   "cell_type": "markdown",
   "metadata": {
    "id": "uZnK7VgWV5SI"
   },
   "source": [
    "# Q1. Write a function that return the range (maximum and minimun) of a given list of numbers"
   ]
  },
  {
   "cell_type": "code",
   "execution_count": 35,
   "metadata": {
    "id": "vuAbJQcOWAM7"
   },
   "outputs": [],
   "source": [
    "def ran(data):\n",
    "    \"\"\"function to find the range of the list\"\"\"\n",
    "    data=input(\"enter the numbers : \").split(\" \")\n",
    "    data=list(map(int , data))\n",
    "    print(\"maximum of number is {} & minimum of number is {}\".format(max(data),min(data)))\n"
   ]
  },
  {
   "cell_type": "code",
   "execution_count": 36,
   "metadata": {},
   "outputs": [
    {
     "name": "stdin",
     "output_type": "stream",
     "text": [
      "enter the numbers :  4 7 8 1 2 78\n"
     ]
    },
    {
     "name": "stdout",
     "output_type": "stream",
     "text": [
      "maximum of number is 78 & minimum of number is 1\n"
     ]
    }
   ],
   "source": [
    "ran(data)"
   ]
  },
  {
   "cell_type": "markdown",
   "metadata": {
    "id": "Y5_v5a8_U1O-"
   },
   "source": [
    "## Q2. Write function that returns mean value of a list of numbers"
   ]
  },
  {
   "cell_type": "code",
   "execution_count": 37,
   "metadata": {
    "id": "RajjEyacU7Sc"
   },
   "outputs": [],
   "source": [
    "def mean(data , num):\n",
    "    \"\"\"function to find mean of a list of numbers\"\"\"\n",
    "    \n",
    "    num = input(\"enter the numbers : \").split(\" \")\n",
    "    data = list(map(int, num))\n",
    "    mean = sum(data)/len(data)\n",
    "    return mean\n"
   ]
  },
  {
   "cell_type": "code",
   "execution_count": 32,
   "metadata": {},
   "outputs": [
    {
     "name": "stdin",
     "output_type": "stream",
     "text": [
      "enter the numbers :  2 4 6 8 10\n"
     ]
    },
    {
     "data": {
      "text/plain": [
       "6.0"
      ]
     },
     "execution_count": 32,
     "metadata": {},
     "output_type": "execute_result"
    }
   ],
   "source": [
    "mean(data,num)"
   ]
  },
  {
   "cell_type": "markdown",
   "metadata": {
    "id": "OpeRxoEoVTIP"
   },
   "source": [
    "# Q3. Write a function that returns the median value of a list of numbers"
   ]
  },
  {
   "cell_type": "code",
   "execution_count": 47,
   "metadata": {
    "id": "u1CUy0UOVaQi"
   },
   "outputs": [],
   "source": [
    "def median(data):\n",
    "    \"\"\"fuction to find median of a list of numbers\"\"\"\n",
    "    \n",
    "    data = input(\"enter the numbers : \").split(\" \")\n",
    "    data = list(map(int , data))\n",
    "    x = sorted(data)\n",
    "    n = int(len(x))\n",
    "    a = x[int(n / 2)]\n",
    "    b = x[int((n / 2) - 1)]\n",
    "    c = x[int((n - 1) / 2)]\n",
    "    d = a+b\n",
    "    e = d/2\n",
    "    \n",
    "    if n % 2 == 0:\n",
    "     ans = e\n",
    "    else:\n",
    "     ans = c\n",
    "    return ans\n"
   ]
  },
  {
   "cell_type": "code",
   "execution_count": 48,
   "metadata": {},
   "outputs": [
    {
     "name": "stdin",
     "output_type": "stream",
     "text": [
      "enter the numbers :  7 8 9 10 14 2 0 1\n"
     ]
    },
    {
     "data": {
      "text/plain": [
       "7.5"
      ]
     },
     "execution_count": 48,
     "metadata": {},
     "output_type": "execute_result"
    }
   ],
   "source": [
    "median(data)"
   ]
  },
  {
   "cell_type": "markdown",
   "metadata": {},
   "source": [
    "## Q4. Write a function to return the mod of a list of numbers, if no mod exists, it should return None. If more than one mod exist, return the mod values as list\n"
   ]
  },
  {
   "cell_type": "code",
   "execution_count": 52,
   "metadata": {},
   "outputs": [
    {
     "name": "stdin",
     "output_type": "stream",
     "text": [
      "Enter the numbers:  1 2 1 2 3 4 1 2\n"
     ]
    },
    {
     "name": "stdout",
     "output_type": "stream",
     "text": [
      "Mode(s): [1, 2]\n"
     ]
    }
   ],
   "source": [
    "data = list(map(int, data))\n",
    "\n",
    "unique = []\n",
    "freq = []\n",
    "\n",
    "for i in range(len(data)):\n",
    "    found = False\n",
    "    for j in range(len(unique)):\n",
    "        if data[i] == unique[j]:\n",
    "            freq[j] += 1\n",
    "            found = True\n",
    "            break\n",
    "    if not found:\n",
    "        unique.append(data[i])\n",
    "        freq.append(1)\n",
    "\n",
    "#finding maximum frequency\n",
    "max_freq = freq[0]\n",
    "for i in range(1, len(freq)):\n",
    "    if freq[i] > max_freq:\n",
    "        max_freq = freq[i]\n",
    "\n",
    "# Checking if mode exists\n",
    "if max_freq == 1:\n",
    "    print(\"No mode\")\n",
    "else:\n",
    "    modes = []\n",
    "    for i in range(len(freq)):\n",
    "        if freq[i] == max_freq:\n",
    "            modes.append(unique[i])\n",
    "    print(\"Mode(s):\", modes)\n"
   ]
  },
  {
   "cell_type": "markdown",
   "metadata": {
    "id": "LcqWwqtgTCiL"
   },
   "source": [
    "## Q5. Write function to compute a given percentile value (e.g. 90th percentile) of a list of numbers"
   ]
  },
  {
   "cell_type": "code",
   "execution_count": 54,
   "metadata": {},
   "outputs": [
    {
     "name": "stdin",
     "output_type": "stream",
     "text": [
      "enter the numbers :  2 4 6 8 10 12 14 16 18 20 22 24 26 28 30 32 34 36 38 40\n"
     ]
    },
    {
     "data": {
      "text/plain": [
       "37.800000000000004"
      ]
     },
     "execution_count": 54,
     "metadata": {},
     "output_type": "execute_result"
    }
   ],
   "source": [
    "def my_percentile(data,p):\n",
    "    \"\"\" function to find percentile value\"\"\"\n",
    "    \n",
    "    data = input(\"enter the numbers : \").split(\" \")\n",
    "    data = list(map(int , data))\n",
    "    data = sorted(data)\n",
    "    n = len(data)\n",
    "    percent = (p / 100) * (n + 1)\n",
    "    percent_int = int(percent)\n",
    "    frac = percent-percent_int\n",
    "    if frac == 0:\n",
    "     percentile = data[percent_int - 1]\n",
    "    else:\n",
    "     percentile = data[percent_int - 1] + (data[percent_int] - data[percent_int - 1]) * frac\n",
    "        \n",
    "    return (percentile)\n",
    "\n",
    "my_percentile(data, 90)"
   ]
  },
  {
   "cell_type": "markdown",
   "metadata": {
    "id": "N-TYHkDcWOfS"
   },
   "source": [
    "# Q6. Write a function that returns the lower bound of a list of numbers"
   ]
  },
  {
   "cell_type": "code",
   "execution_count": 2,
   "metadata": {
    "id": "Y-RKPdKuW5nx"
   },
   "outputs": [
    {
     "name": "stdin",
     "output_type": "stream",
     "text": [
      "enter the numbers :  2 3 5 7 11 13 17 19 23 29 57\n"
     ]
    },
    {
     "name": "stdout",
     "output_type": "stream",
     "text": [
      "Lower Bound: -22.0\n"
     ]
    }
   ],
   "source": [
    "data = input(\"enter the numbers : \").split(\" \")\n",
    "data = list(map(int, data))\n",
    "\n",
    "def my_percentile(data):\n",
    "    \"\"\" function to find lowerbound value\"\"\"\n",
    "\n",
    "    data = sorted(data)\n",
    "    n = len(data)\n",
    "\n",
    "# to find Q1\n",
    "    q1 = (25 / 100) * (n + 1)\n",
    "    q1_int = int(q1)\n",
    "    frac1 = q1 - q1_int\n",
    "    if frac1 == 0:\n",
    "     Q1 = data[q1_int - 1]\n",
    "    else:\n",
    "     Q1= data[q1_int - 1] + (data[q1_int] - data[q1_int - 1]) * frac1\n",
    "   \n",
    "# to find q3\n",
    "    q3 = (75 / 100) * (n + 1)\n",
    "    q3_int = int(q3)\n",
    "    frac2 = q3 - q3_int\n",
    "    if frac2 == 0:\n",
    "     Q3 = data[q3_int - 1]\n",
    "    else:\n",
    "     Q3 = data[q3_int - 1] + (data[q3_int] - data[q3_int - 1]) * frac2\n",
    "  \n",
    "\n",
    "# to find IQR\n",
    "    k = Q3 - Q1\n",
    "\n",
    "# to find lower bound\n",
    "    lb = Q1 - (k*1.5)\n",
    "\n",
    "    return lb\n",
    "\n",
    "\n",
    "print(\"Lower Bound:\", my_percentile(data))\n"
   ]
  },
  {
   "cell_type": "markdown",
   "metadata": {
    "id": "5aHfaI_jThpX"
   },
   "source": [
    "## Q7. Write function to return any outliers from a given list of numbers, if no outliers present it should return None"
   ]
  },
  {
   "cell_type": "code",
   "execution_count": 11,
   "metadata": {
    "id": "gG6-qzT7T0Si"
   },
   "outputs": [
    {
     "name": "stdin",
     "output_type": "stream",
     "text": [
      "enter the numbers :  2 3 5 7 11 13 17 19 23 29 130\n"
     ]
    },
    {
     "name": "stdout",
     "output_type": "stream",
     "text": [
      "Sorted Data: [2, 3, 5, 7, 11, 13, 17, 19, 23, 29, 130]\n",
      "Q1: 5\n",
      "Q3: 23\n",
      "IQR: 18\n",
      "Lower Bound: -22.0\n",
      "Upper Bound: 50.0\n",
      "Outliers: [130]\n"
     ]
    }
   ],
   "source": [
    "data = input(\"enter the numbers : \").split(\" \")\n",
    "data = list(map(int, data))\n",
    "\n",
    "def outlier(data):\n",
    "    \"\"\" function to find outliers\"\"\"\n",
    "\n",
    "    data = sorted(data)\n",
    "    n = len(data)\n",
    "\n",
    "# to find Q1\n",
    "    q1 = (25 / 100) * (n + 1)\n",
    "    q1_int = int(q1)\n",
    "    frac1 = q1 - q1_int\n",
    "    if frac1 == 0:\n",
    "     Q1 = data[q1_int - 1]\n",
    "    else:\n",
    "     Q1 = data[q1_int - 1] + (data[q1_int] - data[q1_int - 1]) * frac1\n",
    "   \n",
    "# to find q3\n",
    "    q3 = (75 / 100) * (n + 1)\n",
    "    q3_int = int(q3)\n",
    "    frac2 = q3 - q3_int\n",
    "    if frac2 == 0:\n",
    "     Q3 = data[q3_int - 1]\n",
    "    else:\n",
    "     Q3 = data[q3_int - 1] + (data[q3_int] - data[q3_int - 1]) * frac2\n",
    "  \n",
    "\n",
    "# to find IQR\n",
    "    k = Q3 - Q1\n",
    "\n",
    "# to find lower bound\n",
    "    lb = Q1 - (k * 1.5)\n",
    "# to find upper bound\n",
    "    ub = Q3 + (k * 1.5)\n",
    "\n",
    "# to detect outliers\n",
    "    outliers = [x for x in data if x < lb or x > ub]\n",
    "\n",
    "    print(\"Sorted Data:\", data)\n",
    "    print(\"Q1:\", Q1)\n",
    "    print(\"Q3:\", Q3)\n",
    "    print(\"IQR:\", k)\n",
    "    print(\"Lower Bound:\", lb)\n",
    "    print(\"Upper Bound:\", ub)\n",
    "    \n",
    "    if outliers:\n",
    "        print(\"Outliers:\", outliers)\n",
    "    else:\n",
    "        print(\"no outliers\")\n",
    "        return(None)\n",
    "\n",
    "outlier(data)"
   ]
  },
  {
   "cell_type": "markdown",
   "metadata": {
    "id": "jI9t-tcDT5EK"
   },
   "source": [
    "## Q8. Write a function to return standard deviation of a list of numbers"
   ]
  },
  {
   "cell_type": "code",
   "execution_count": 64,
   "metadata": {
    "id": "MMU_cMlLUFxJ"
   },
   "outputs": [
    {
     "name": "stdin",
     "output_type": "stream",
     "text": [
      "enter the numbers :  3 6 9 12 15 18 21 24 27 30 33 36 39 42 45 48 51 54 57 60\n"
     ]
    },
    {
     "data": {
      "text/plain": [
       "17.298843892006193"
      ]
     },
     "execution_count": 64,
     "metadata": {},
     "output_type": "execute_result"
    }
   ],
   "source": [
    "def stddev(data) :\n",
    "    \"\"\" function to return standard deviation\"\"\"\n",
    "    data = input(\"enter the numbers : \").split(\" \")\n",
    "    data = list(map(int , data))\n",
    "    \n",
    "    a = sum(data) / len(data)\n",
    "    val = []\n",
    "    \n",
    "    for i in data:\n",
    "     val.append((i - a) * (i - a))\n",
    "\n",
    "    j = sum(val)\n",
    "    var = (j / len(val))\n",
    "    return(var ** (1 / 2))\n",
    "\n",
    "stddev(data)"
   ]
  },
  {
   "cell_type": "markdown",
   "metadata": {
    "id": "LufmQDJPURkM"
   },
   "source": [
    "## Q9. Write function to compute and return Z-score values of a list of numbers"
   ]
  },
  {
   "cell_type": "code",
   "execution_count": 59,
   "metadata": {
    "id": "ml2qpSpFUYxV"
   },
   "outputs": [
    {
     "name": "stdin",
     "output_type": "stream",
     "text": [
      "enter the numbers :  2 2 2 -2 -2 -2\n"
     ]
    },
    {
     "data": {
      "text/plain": [
       "[1.0, 1.0, 1.0, -1.0, -1.0, -1.0]"
      ]
     },
     "execution_count": 59,
     "metadata": {},
     "output_type": "execute_result"
    }
   ],
   "source": [
    "def zscore(data):\n",
    "    \"\"\" function to compute z score\"\"\"\n",
    "    \n",
    "    data = input(\"enter the numbers : \").split(\" \")\n",
    "    data = list(map(int , data))\n",
    "    mean = sum(data) / len(data)\n",
    "    val = []\n",
    "    z = []\n",
    "    for i in data:\n",
    "     val.append((i-mean)*(i-mean))\n",
    "\n",
    "    j = sum(val)\n",
    "    var = (j/len(val))\n",
    "    std = var ** (1/2)\n",
    "\n",
    "    for i in data:\n",
    "      z.append((i-mean)/std)\n",
    "\n",
    "    return z\n",
    "zscore(data)"
   ]
  },
  {
   "cell_type": "markdown",
   "metadata": {
    "id": "YQSNHIfxUb6s"
   },
   "source": [
    "## Q10. Write a function to compute and return the Pearson correlation coefficient value of two list of numbers"
   ]
  },
  {
   "cell_type": "code",
   "execution_count": 18,
   "metadata": {
    "id": "1YGqr3T6Uk6H"
   },
   "outputs": [
    {
     "name": "stdin",
     "output_type": "stream",
     "text": [
      "Enter the first set of numbers:  5 10 15 20 25\n",
      "Enter the second set of numbers:  15 12 9 6 3\n"
     ]
    }
   ],
   "source": [
    "x = input(\"Enter the first set of numbers: \").split()\n",
    "x = list(map(int, x))\n",
    "\n",
    "y = input(\"Enter the second set of numbers: \").split()\n",
    "y = list(map(int, y ))\n",
    "\n",
    "def pearson_correlation(x, y):\n",
    "    \"\"\"Compute and return the Pearson correlation coefficient between two lists\"\"\"\n",
    "    if len(x) != len(y):\n",
    "        print(\"Both lists must have the same length\")\n",
    "        return None # Return None or raise an error if lengths don't match\n",
    "\n",
    "    n = len(x)\n",
    "    mean_x = sum(x) / n\n",
    "    mean_y = sum(y) / n\n",
    "\n",
    "    # Calculating  numerator\n",
    "    numerator = sum((x[i] - mean_x) * (y[i] - mean_y) for i in range(n))\n",
    "\n",
    "    # Calculating denominators\n",
    "    den_x = sum((x[i] - mean_x) ** 2 for i in range(n))\n",
    "    den_y = sum((y[i] - mean_y) ** 2 for i in range(n))\n",
    "\n",
    "    denominator = (den_x * den_y) ** 0.5\n",
    "\n",
    "    if denominator == 0:\n",
    "        return 0  # Avoid division by zero\n",
    "    r = numerator / denominator\n",
    "    \n",
    "    return r"
   ]
  },
  {
   "cell_type": "code",
   "execution_count": 19,
   "metadata": {},
   "outputs": [
    {
     "data": {
      "text/plain": [
       "-1.0"
      ]
     },
     "execution_count": 19,
     "metadata": {},
     "output_type": "execute_result"
    }
   ],
   "source": [
    "pearson_correlation(x,y)"
   ]
  }
 ],
 "metadata": {
  "colab": {
   "provenance": []
  },
  "kernelspec": {
   "display_name": "Python 3 (ipykernel)",
   "language": "python",
   "name": "python3"
  },
  "language_info": {
   "codemirror_mode": {
    "name": "ipython",
    "version": 3
   },
   "file_extension": ".py",
   "mimetype": "text/x-python",
   "name": "python",
   "nbconvert_exporter": "python",
   "pygments_lexer": "ipython3",
   "version": "3.13.4"
  }
 },
 "nbformat": 4,
 "nbformat_minor": 4
}
