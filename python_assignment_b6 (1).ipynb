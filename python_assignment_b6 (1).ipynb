{
 "cells": [
  {
   "cell_type": "markdown",
   "id": "d2328cad",
   "metadata": {},
   "source": [
    "# Python Basics Assignment"
   ]
  },
  {
   "cell_type": "markdown",
   "id": "cb537954",
   "metadata": {},
   "source": [
    "### Question 1\n",
    "Write a function to compute number of vowels in a string given as input"
   ]
  },
  {
   "cell_type": "code",
   "execution_count": 4,
   "id": "cf213ba2",
   "metadata": {},
   "outputs": [
    {
     "name": "stdin",
     "output_type": "stream",
     "text": [
      "enter the words here:  how are you?\n"
     ]
    },
    {
     "name": "stdout",
     "output_type": "stream",
     "text": [
      "number of vowels:5\n"
     ]
    }
   ],
   "source": [
    "# Your code here\n",
    "def your_function_1():\n",
    "    a = input(\"enter the words here: \")\n",
    "    vowels = \"aeiouAEIOU\"\n",
    "    count = sum(1 for char in a if char in vowels) \n",
    "    print(\"number of vowels:{}\".format(count))\n",
    "    \n",
    "your_function_1()    "
   ]
  },
  {
   "cell_type": "markdown",
   "id": "4eaff430",
   "metadata": {},
   "source": [
    "### Question 2\n",
    "Write a function that checks whether a number is prime."
   ]
  },
  {
   "cell_type": "code",
   "execution_count": 10,
   "id": "81934cf7",
   "metadata": {},
   "outputs": [
    {
     "data": {
      "text/plain": [
       "True"
      ]
     },
     "execution_count": 10,
     "metadata": {},
     "output_type": "execute_result"
    }
   ],
   "source": [
    "# Your code here\n",
    "def your_function_2(n):\n",
    "    if n <= 1:\n",
    "        return False\n",
    "    for i in range(2, int(n**0.5) + 1):\n",
    "        if n % i == 0:\n",
    "            return False\n",
    "    return True\n",
    "    \n",
    "your_function_2(7)"
   ]
  },
  {
   "cell_type": "markdown",
   "id": "5f061e50",
   "metadata": {},
   "source": [
    "### Question 3\n",
    "Write a function to return the maximum of two numbers."
   ]
  },
  {
   "cell_type": "code",
   "execution_count": 11,
   "id": "44e2a596",
   "metadata": {},
   "outputs": [
    {
     "data": {
      "text/plain": [
       "100"
      ]
     },
     "execution_count": 11,
     "metadata": {},
     "output_type": "execute_result"
    }
   ],
   "source": [
    "# Your code here\n",
    "def your_function_3(a,b):\n",
    "    m = max(a,b)\n",
    "    return m\n",
    "    \n",
    "your_function_3(100,50)    "
   ]
  },
  {
   "cell_type": "markdown",
   "id": "7513ca91",
   "metadata": {},
   "source": [
    "### Question 4\n",
    "Write a function to return the factorial of a number."
   ]
  },
  {
   "cell_type": "code",
   "execution_count": 19,
   "id": "6617842f",
   "metadata": {},
   "outputs": [
    {
     "data": {
      "text/plain": [
       "120"
      ]
     },
     "execution_count": 19,
     "metadata": {},
     "output_type": "execute_result"
    }
   ],
   "source": [
    "# Your code here\n",
    "def your_function_4(m):\n",
    "    if m < 0:\n",
    "        answer= \"factorial is not defined for negative numbers.\"\n",
    "    answer = 1\n",
    "    for i in range(2, m+1):\n",
    "        answer *= i\n",
    "    return answer\n",
    "\n",
    "your_function_4(5)    \n",
    "    "
   ]
  },
  {
   "cell_type": "markdown",
   "id": "9b942098",
   "metadata": {},
   "source": [
    "### Question 5\n",
    "Write a function to reverse a string without string indexing."
   ]
  },
  {
   "cell_type": "code",
   "execution_count": 35,
   "id": "d606b194",
   "metadata": {},
   "outputs": [
    {
     "name": "stdin",
     "output_type": "stream",
     "text": [
      "enter the word to reverse :  hello friends\n"
     ]
    },
    {
     "data": {
      "text/plain": [
       "'sdneirf olleh'"
      ]
     },
     "execution_count": 35,
     "metadata": {},
     "output_type": "execute_result"
    }
   ],
   "source": [
    "# Your code here\n",
    "def your_function_5():\n",
    "    s = input(\"enter the word to reverse : \")\n",
    "    reverse = ''.join(reversed(s))\n",
    "  \n",
    "    return reverse\n",
    "    \n",
    "your_function_5()    \n"
   ]
  },
  {
   "cell_type": "markdown",
   "id": "1abd915b",
   "metadata": {},
   "source": [
    "### Question 6\n",
    "Write a function to check if a string is a palindrome."
   ]
  },
  {
   "cell_type": "code",
   "execution_count": 38,
   "id": "2b868fb3",
   "metadata": {},
   "outputs": [
    {
     "name": "stdin",
     "output_type": "stream",
     "text": [
      "enter the word :  malayalam\n"
     ]
    },
    {
     "data": {
      "text/plain": [
       "' malayalam is pallindrome'"
      ]
     },
     "execution_count": 38,
     "metadata": {},
     "output_type": "execute_result"
    }
   ],
   "source": [
    "# Your code here\n",
    "def your_function_6():\n",
    "    s = input(\"enter the word : \")\n",
    "    reverse = ''.join(reversed(s))\n",
    "    if s == reverse :\n",
    "        ans = \" {} is pallindrome\".format(s)\n",
    "    else:\n",
    "        ans = \"{} is not a pallindrome\".format(s)\n",
    "    return ans\n",
    "\n",
    "your_function_6()    "
   ]
  },
  {
   "cell_type": "markdown",
   "id": "5f2f3791",
   "metadata": {},
   "source": [
    "### Question 7\n",
    "Write a function to count vowels in a string."
   ]
  },
  {
   "cell_type": "code",
   "execution_count": 42,
   "id": "73fefa50",
   "metadata": {},
   "outputs": [
    {
     "name": "stdin",
     "output_type": "stream",
     "text": [
      "enter the words here:  hello friends\n"
     ]
    },
    {
     "name": "stdout",
     "output_type": "stream",
     "text": [
      "number of vowels:4\n"
     ]
    }
   ],
   "source": [
    "# Your code here\n",
    "def your_function_7():\n",
    "    a = input(\"enter the words here: \")\n",
    "    vowels = \"aeiouAEIOU\"\n",
    "    count = sum(1 for char in a if char in vowels) \n",
    "    print(\"number of vowels:{}\".format(count))\n",
    "\n",
    "your_function_7()"
   ]
  },
  {
   "cell_type": "markdown",
   "id": "0d3a9996",
   "metadata": {},
   "source": [
    "### Question 8\n",
    "Write a function that returns the sum of a list."
   ]
  },
  {
   "cell_type": "code",
   "execution_count": 49,
   "id": "ab6afc66",
   "metadata": {},
   "outputs": [
    {
     "name": "stdin",
     "output_type": "stream",
     "text": [
      "enter the numbers :  7 8 9 10\n"
     ]
    },
    {
     "data": {
      "text/plain": [
       "34"
      ]
     },
     "execution_count": 49,
     "metadata": {},
     "output_type": "execute_result"
    }
   ],
   "source": [
    "# Your code here\n",
    "def your_function_8():\n",
    "    a = input(\"enter the numbers : \").split(\" \")\n",
    "    a = list(map(int,a))\n",
    "    s = sum(a)\n",
    "    return s\n",
    "\n",
    "your_function_8()"
   ]
  },
  {
   "cell_type": "markdown",
   "id": "f6682500",
   "metadata": {},
   "source": [
    "### Question 9\n",
    "Write a function to find the smallest number in a list."
   ]
  },
  {
   "cell_type": "code",
   "execution_count": 50,
   "id": "6798a641",
   "metadata": {},
   "outputs": [
    {
     "name": "stdin",
     "output_type": "stream",
     "text": [
      "enter the numbers :  7 8 9 10 4\n"
     ]
    },
    {
     "data": {
      "text/plain": [
       "4"
      ]
     },
     "execution_count": 50,
     "metadata": {},
     "output_type": "execute_result"
    }
   ],
   "source": [
    "# Your code here\n",
    "def your_function_9():\n",
    "    a = input(\"enter the numbers : \").split(\" \")\n",
    "    a = list(map(int,a))\n",
    "    m = min(a)\n",
    "    return m\n",
    "\n",
    "your_function_9()\n",
    "\n",
    "    "
   ]
  },
  {
   "cell_type": "markdown",
   "id": "fb11e683",
   "metadata": {},
   "source": [
    "### Question 10\n",
    "Write a function to remove duplicates from a list."
   ]
  },
  {
   "cell_type": "code",
   "execution_count": 62,
   "id": "7c53f88c",
   "metadata": {},
   "outputs": [
    {
     "name": "stdin",
     "output_type": "stream",
     "text": [
      " enter the numbers :  7 8 9 10 10\n"
     ]
    },
    {
     "data": {
      "text/plain": [
       "[7, 8, 9, 10]"
      ]
     },
     "execution_count": 62,
     "metadata": {},
     "output_type": "execute_result"
    }
   ],
   "source": [
    "# Your code here\n",
    "def your_function_10():\n",
    "    l = input(\" enter the numbers : \").split(\" \")\n",
    "    k = list(map(int,l))\n",
    "    m = set()\n",
    "    result = []\n",
    "    for i in k:\n",
    "        if i not in m:\n",
    "            result.append(i)\n",
    "            m.add(i)\n",
    "    return result\n",
    "\n",
    "your_function_10()   "
   ]
  },
  {
   "cell_type": "markdown",
   "id": "9c380a5c",
   "metadata": {},
   "source": [
    "### Question 11\n",
    "Write a function to sort a list in ascending order without using builtin sort function"
   ]
  },
  {
   "cell_type": "code",
   "execution_count": 56,
   "id": "8e43832f",
   "metadata": {},
   "outputs": [
    {
     "ename": "TypeError",
     "evalue": "your_function_11() missing 1 required positional argument: 'l'",
     "output_type": "error",
     "traceback": [
      "\u001b[31m---------------------------------------------------------------------------\u001b[39m",
      "\u001b[31mTypeError\u001b[39m                                 Traceback (most recent call last)",
      "\u001b[36mCell\u001b[39m\u001b[36m \u001b[39m\u001b[32mIn[56]\u001b[39m\u001b[32m, line 11\u001b[39m\n\u001b[32m      8\u001b[39m             m.add(i)\n\u001b[32m      9\u001b[39m     \u001b[38;5;28;01mreturn\u001b[39;00m result\n\u001b[32m---> \u001b[39m\u001b[32m11\u001b[39m \u001b[43myour_function_11\u001b[49m\u001b[43m(\u001b[49m\u001b[43m)\u001b[49m    \n",
      "\u001b[31mTypeError\u001b[39m: your_function_11() missing 1 required positional argument: 'l'"
     ]
    }
   ],
   "source": [
    "# Your code here\n",
    "def your_function_11(l):\n"
   ]
  },
  {
   "cell_type": "markdown",
   "id": "1270c91c",
   "metadata": {},
   "source": [
    "### Question 12\n",
    "Write a function that returns the length of a string."
   ]
  },
  {
   "cell_type": "code",
   "execution_count": 71,
   "id": "87f35472",
   "metadata": {},
   "outputs": [
    {
     "data": {
      "text/plain": [
       "14"
      ]
     },
     "execution_count": 71,
     "metadata": {},
     "output_type": "execute_result"
    }
   ],
   "source": [
    "# Your code here\n",
    "def your_function_12(s):\n",
    "    count = 0\n",
    "    try :\n",
    "        while s[count]:\n",
    "            count += 1\n",
    "    except IndexError :\n",
    "        pass\n",
    "    return count\n",
    "\n",
    "your_function_12(\"welcome friend\")   \n",
    "    "
   ]
  },
  {
   "cell_type": "markdown",
   "id": "9a8e3d28",
   "metadata": {},
   "source": [
    "### Question 13\n",
    "Write a function to count words in a sentence."
   ]
  },
  {
   "cell_type": "code",
   "execution_count": 73,
   "id": "e6f996ef",
   "metadata": {},
   "outputs": [
    {
     "name": "stdin",
     "output_type": "stream",
     "text": [
      "enter your sentence :  hello my friends. how are you\n"
     ]
    },
    {
     "data": {
      "text/plain": [
       "6"
      ]
     },
     "execution_count": 73,
     "metadata": {},
     "output_type": "execute_result"
    }
   ],
   "source": [
    "# Your code here\n",
    "def your_function_13():\n",
    "    x = input(\"enter your sentence : \").split(\" \")\n",
    "    x = list(map(str,x))\n",
    "    k = len(x)\n",
    "    return k\n",
    "\n",
    "your_function_13()"
   ]
  },
  {
   "cell_type": "markdown",
   "id": "430c2e4a",
   "metadata": {},
   "source": [
    "### Question 14\n",
    "Write a function to convert Celsius to Fahrenheit."
   ]
  },
  {
   "cell_type": "code",
   "execution_count": 75,
   "id": "b710b0bd",
   "metadata": {},
   "outputs": [
    {
     "data": {
      "text/plain": [
       "77.0"
      ]
     },
     "execution_count": 75,
     "metadata": {},
     "output_type": "execute_result"
    }
   ],
   "source": [
    "# Your code here\n",
    "def your_function_14(c):\n",
    "    \"\"\" to convert celsius to farenheit\"\"\"\n",
    "    return( c* 9/5) + 32  # to farenheit = (celsius *9/5) + 32\n",
    "\n",
    "your_function_14(25)"
   ]
  },
  {
   "cell_type": "markdown",
   "id": "acefe5e3",
   "metadata": {},
   "source": [
    "### Question 15\n",
    "Write a function to check if a number is palindrome."
   ]
  },
  {
   "cell_type": "code",
   "execution_count": 87,
   "id": "b700abae",
   "metadata": {},
   "outputs": [
    {
     "name": "stdin",
     "output_type": "stream",
     "text": [
      "enter the number :  8\n"
     ]
    },
    {
     "data": {
      "text/plain": [
       "' 8 is pallindrome'"
      ]
     },
     "execution_count": 87,
     "metadata": {},
     "output_type": "execute_result"
    }
   ],
   "source": [
    "# Your code here\n",
    "def your_function_15():\n",
    "    s = input(\"enter the number : \")\n",
    "    reverse = ''.join(reversed(s))\n",
    "    if s == reverse :\n",
    "        ans = \" {} is pallindrome\".format(s)\n",
    "    else:\n",
    "        ans = \"{} is not a pallindrome\".format(s)\n",
    "    return ans\n",
    "\n",
    "your_function_15()  "
   ]
  },
  {
   "cell_type": "markdown",
   "id": "b63452cb",
   "metadata": {},
   "source": [
    "### Question 16\n",
    "Write a function to return all even numbers in a list."
   ]
  },
  {
   "cell_type": "code",
   "execution_count": 90,
   "id": "9d1fc968",
   "metadata": {},
   "outputs": [
    {
     "name": "stdin",
     "output_type": "stream",
     "text": [
      "enter the numbers :  1 2 3 4 5 6 7 8 9 10\n"
     ]
    },
    {
     "data": {
      "text/plain": [
       "[2, 4, 6, 8, 10]"
      ]
     },
     "execution_count": 90,
     "metadata": {},
     "output_type": "execute_result"
    }
   ],
   "source": [
    "# Your code here\n",
    "def your_function_16():\n",
    "    a = input(\"enter the numbers : \").split(\" \")\n",
    "    a = list(map(int,a))\n",
    "    even = []\n",
    "    for i in a:\n",
    "        if i % 2 == 0:\n",
    "            even.append(i)\n",
    "    return even\n",
    "\n",
    "your_function_16()    \n",
    "    "
   ]
  },
  {
   "cell_type": "markdown",
   "id": "aca524d9",
   "metadata": {},
   "source": [
    "### Question 17\n",
    "Write a function to return the nth Fibonacci number."
   ]
  },
  {
   "cell_type": "code",
   "execution_count": 99,
   "id": "97dc4e87",
   "metadata": {},
   "outputs": [
    {
     "data": {
      "text/plain": [
       "[0, 1, 1, 2, 3, 5, 8, 13, 21, 34]"
      ]
     },
     "execution_count": 99,
     "metadata": {},
     "output_type": "execute_result"
    }
   ],
   "source": [
    "# Your code here\n",
    "def your_function_17(n):\n",
    "    series = []\n",
    "    a ,b = 0,1\n",
    "    for _ in range(n):\n",
    "        series.append(a)\n",
    "        a, b=b, a + b\n",
    "    return series    \n",
    "\n",
    "your_function_17(10)    \n",
    "    "
   ]
  },
  {
   "cell_type": "markdown",
   "id": "29c847dc",
   "metadata": {},
   "source": [
    "### Question 18\n",
    "Write a function to calculate the average of a list."
   ]
  },
  {
   "cell_type": "code",
   "execution_count": 103,
   "id": "9adc9fd2",
   "metadata": {},
   "outputs": [
    {
     "name": "stdin",
     "output_type": "stream",
     "text": [
      "enter your numbers :  1 2 3 4 5\n"
     ]
    },
    {
     "data": {
      "text/plain": [
       "3.0"
      ]
     },
     "execution_count": 103,
     "metadata": {},
     "output_type": "execute_result"
    }
   ],
   "source": [
    "# Your code here\n",
    "def your_function_18():\n",
    "    a = input(\"enter your numbers : \").split(\" \")\n",
    "    a = list(map(int,a))\n",
    "    k = float(sum(a)/len(a))\n",
    "    return k\n",
    "\n",
    "your_function_18()\n",
    "            \n",
    "    "
   ]
  },
  {
   "cell_type": "markdown",
   "id": "420240fb",
   "metadata": {},
   "source": [
    "### Question 19\n",
    "Write a function that returns a dictionary of character counts."
   ]
  },
  {
   "cell_type": "code",
   "execution_count": 108,
   "id": "95cafc54",
   "metadata": {},
   "outputs": [
    {
     "name": "stdin",
     "output_type": "stream",
     "text": [
      "enter a word : example\n"
     ]
    },
    {
     "data": {
      "text/plain": [
       "{'e': 2, 'x': 1, 'a': 1, 'm': 1, 'p': 1, 'l': 1}"
      ]
     },
     "execution_count": 108,
     "metadata": {},
     "output_type": "execute_result"
    }
   ],
   "source": [
    "# Your code here\n",
    "def your_function_19():\n",
    "    s=input(\"enter a word :\")\n",
    "    count_dict = {}\n",
    "    for char in s:\n",
    "        if char in count_dict:\n",
    "            count_dict[char] += 1\n",
    "        else:\n",
    "            count_dict[char] = 1\n",
    "    return count_dict\n",
    "\n",
    "your_function_19()"
   ]
  },
  {
   "cell_type": "markdown",
   "id": "17629a07",
   "metadata": {},
   "source": [
    "### Question 20\n",
    "Write a function that returns True if all list elements are unique."
   ]
  },
  {
   "cell_type": "code",
   "execution_count": 118,
   "id": "fe4f8820",
   "metadata": {},
   "outputs": [
    {
     "name": "stdin",
     "output_type": "stream",
     "text": [
      "enter a list of elements :  1,1,2,2,3\n"
     ]
    },
    {
     "data": {
      "text/plain": [
       "False"
      ]
     },
     "execution_count": 118,
     "metadata": {},
     "output_type": "execute_result"
    }
   ],
   "source": [
    "# Your code here\n",
    "def your_function_20():\n",
    "    s=input(\"enter a list of elements : \")\n",
    "    elements = s.split(\",\")\n",
    "    return len(elements) == len(set(elements))\n",
    "\n",
    "your_function_20()\n",
    "    "
   ]
  },
  {
   "cell_type": "markdown",
   "id": "91dc87b9",
   "metadata": {},
   "source": [
    "### Question 21\n",
    "Write a function that returns dot product of two list of numbers"
   ]
  },
  {
   "cell_type": "code",
   "execution_count": 143,
   "id": "87c3fa4b",
   "metadata": {},
   "outputs": [
    {
     "name": "stdin",
     "output_type": "stream",
     "text": [
      "enter your numbers :  1 2 3\n",
      "enter your numbers :  1 2 3\n"
     ]
    },
    {
     "name": "stdout",
     "output_type": "stream",
     "text": [
      "14\n"
     ]
    }
   ],
   "source": [
    "# Your code here\n",
    "def your_function_21():\n",
    "    list1 = input(\"enter your numbers : \").split(\" \")\n",
    "    list1= list(map(int,list1))\n",
    "    \n",
    "    list2 = input(\"enter your numbers : \").split(\" \")\n",
    "    list2= list(map(int,list2))\n",
    "    \n",
    "    if len(list1) != len(list2):\n",
    "        return \"Lists must be the same length\"\n",
    "        \n",
    "    total = 0\n",
    "    for i in range(len(list1)):\n",
    "        total += list1[i] * list2[i]\n",
    "    return total\n",
    "\n",
    "print(your_function_21())"
   ]
  },
  {
   "cell_type": "markdown",
   "id": "5eeb0527",
   "metadata": {},
   "source": [
    "### Question 22\n",
    "Write a function that returns the projection of vector a onto vector b. Both a and b are given as list of numbers"
   ]
  },
  {
   "cell_type": "code",
   "execution_count": 158,
   "id": "d2c2439f",
   "metadata": {},
   "outputs": [
    {
     "name": "stdin",
     "output_type": "stream",
     "text": [
      "Enter vector a (space-separated):  4 5 6 7\n",
      "Enter vector b (space-separated):  7 5 4 3\n"
     ]
    },
    {
     "name": "stdout",
     "output_type": "stream",
     "text": [
      "[6.92929292929293, 4.94949494949495, 3.95959595959596, 2.9696969696969697]\n"
     ]
    }
   ],
   "source": [
    "# Your code here\n",
    "def your_function_22():\n",
    "    a = input(\"Enter vector a (space-separated): \").split(\" \")\n",
    "    a = list(map(int, a))\n",
    "    \n",
    "    b = input(\"Enter vector b (space-separated): \").split(\" \")\n",
    "    b = list(map(int, b))\n",
    "    \n",
    "    if len(a) != len(b):\n",
    "        return \"Lists must be the same length\"\n",
    "\n",
    "    total1 = 0\n",
    "    total2 = 0\n",
    "    for i in range(len(a)):\n",
    "        total1 += a[i] * b[i]\n",
    "        total2 += b[i] * b[i]    \n",
    "\n",
    "    if total2 == 0:\n",
    "        return \"Cannot project onto a zero vector\"\n",
    "       \n",
    "    s = total1 / total2\n",
    "    proj = [s* x for x in b]\n",
    "    return proj\n",
    "\n",
    "print(your_function_22())\n",
    "\n",
    "\n",
    "    \n",
    "        \n",
    "        \n",
    "    "
   ]
  },
  {
   "cell_type": "markdown",
   "id": "1410b385",
   "metadata": {},
   "source": [
    "### Question 23\n",
    "Write a function to return common elements between two lists."
   ]
  },
  {
   "cell_type": "code",
   "execution_count": 160,
   "id": "2cee584c",
   "metadata": {},
   "outputs": [
    {
     "name": "stdin",
     "output_type": "stream",
     "text": [
      "Enter vector a (space-separated):  1 2 3 4\n",
      "Enter vector b (space-separated):  4 5 6 7\n"
     ]
    },
    {
     "data": {
      "text/plain": [
       "[4]"
      ]
     },
     "execution_count": 160,
     "metadata": {},
     "output_type": "execute_result"
    }
   ],
   "source": [
    "# Your code here\n",
    "def your_function_23():\n",
    "    a = input(\"Enter vector a (space-separated): \").split(\" \")\n",
    "    a = list(map(int, a))\n",
    "    \n",
    "    b = input(\"Enter vector b (space-separated): \").split(\" \")\n",
    "    b = list(map(int, b))\n",
    "\n",
    "    return list(set(a) & set(b))\n",
    "\n",
    "your_function_23()    \n",
    "    "
   ]
  },
  {
   "cell_type": "markdown",
   "id": "23ab5210",
   "metadata": {},
   "source": [
    "### Question 24\n",
    "Create a class Vector that supports addition, dot product, and magnitude."
   ]
  },
  {
   "cell_type": "code",
   "execution_count": null,
   "id": "f6b18fd7",
   "metadata": {},
   "outputs": [],
   "source": [
    "# Your code here\n",
    "def your_function_24():\n",
    "    pass"
   ]
  },
  {
   "cell_type": "markdown",
   "id": "a0621aba",
   "metadata": {},
   "source": [
    "### Question 25\n",
    "Implement a function to return all outliers in a list based on the IQR method."
   ]
  },
  {
   "cell_type": "code",
   "execution_count": 173,
   "id": "460a8994",
   "metadata": {},
   "outputs": [
    {
     "name": "stdin",
     "output_type": "stream",
     "text": [
      "enter the number : 1 2 3 4 5 50\n"
     ]
    },
    {
     "data": {
      "text/plain": [
       "[50]"
      ]
     },
     "execution_count": 173,
     "metadata": {},
     "output_type": "execute_result"
    }
   ],
   "source": [
    "\n",
    "def find_outliers_iqr(data):\n",
    "    data = input(\"enter the number :\").split(\" \")\n",
    "    data = list(map(int,data))\n",
    "    data = sorted(data)\n",
    "    n = len(data)\n",
    "\n",
    "    # Q1 calculation\n",
    "    q1_pos = (25 / 100) * (n + 1)\n",
    "    q1_int = int(q1_pos)\n",
    "    frac1 = q1_pos - q1_int\n",
    "    if frac1 == 0:\n",
    "        q1 = data[q1_int - 1]\n",
    "    else:\n",
    "        q1 = data[q1_int - 1] + (data[q1_int] - data[q1_int - 1]) * frac1\n",
    "\n",
    "    # Q3 calculation\n",
    "    q3_pos = (75 / 100) * (n + 1)\n",
    "    q3_int = int(q3_pos)\n",
    "    frac2 = q3_pos - q3_int\n",
    "    if frac2 == 0:\n",
    "        q3 = data[q3_int - 1]\n",
    "    else:\n",
    "        q3 = data[q3_int - 1] + (data[q3_int] - data[q3_int - 1]) * frac2\n",
    "\n",
    "    # IQR and bounds\n",
    "    iqr = q3 - q1\n",
    "    lower_bound = q1 - 1.5 * iqr\n",
    "    upper_bound = q3 + 1.5 * iqr\n",
    "\n",
    "    # Identify outliers\n",
    "    outliers = [x for x in data if x < lower_bound or x > upper_bound]\n",
    "\n",
    "    return outliers\n",
    "\n",
    "(find_outliers_iqr(data))\n"
   ]
  },
  {
   "cell_type": "markdown",
   "id": "f0be510e",
   "metadata": {},
   "source": [
    "### Question 26\n",
    "Function with default arguments:\n",
    "Create a function to compute variance with an option to use sample or population formula"
   ]
  },
  {
   "cell_type": "code",
   "execution_count": 179,
   "id": "941d732d",
   "metadata": {},
   "outputs": [
    {
     "name": "stdin",
     "output_type": "stream",
     "text": [
      "Enter the numbers separated by space:  1 2 3 4 5 6 7 8\n"
     ]
    },
    {
     "name": "stdout",
     "output_type": "stream",
     "text": [
      "Variance: 6.0\n"
     ]
    },
    {
     "data": {
      "text/plain": [
       "6.0"
      ]
     },
     "execution_count": 179,
     "metadata": {},
     "output_type": "execute_result"
    }
   ],
   "source": [
    "# Your code here\n",
    "def your_function_26(sample=True):\n",
    "    data = input(\"Enter the numbers separated by space: \").split(\" \")\n",
    "    data = list(map(int, data))\n",
    "    if not data:\n",
    "        return None  \n",
    "\n",
    "    mean = sum(data) / len(data)\n",
    "    squared_diffs = [(x - mean) ** 2 for x in data]\n",
    "\n",
    "    if sample and len(data) > 1:\n",
    "        variance = sum(squared_diffs) / (len(data) - 1)\n",
    "    else:\n",
    "        variance = sum(squared_diffs) / len(data)\n",
    "\n",
    "    print(\"Variance:\", variance)\n",
    "    return variance\n",
    "\n",
    "your_function_26()\n",
    "\n"
   ]
  },
  {
   "cell_type": "markdown",
   "id": "c39be0f1",
   "metadata": {},
   "source": [
    "### Question 27\n",
    "Create a list of squares of even numbers between 1 and 20 using list comprehension."
   ]
  },
  {
   "cell_type": "code",
   "execution_count": 180,
   "id": "9e4ba74a",
   "metadata": {},
   "outputs": [],
   "source": [
    "# Your code here\n",
    "def your_function_27():\n",
    "     pass"
   ]
  },
  {
   "cell_type": "markdown",
   "id": "b43c266d",
   "metadata": {},
   "source": [
    "### Question 28\n",
    "Write a function that returns the L1 and L2 norms of a vector given as list"
   ]
  },
  {
   "cell_type": "code",
   "execution_count": null,
   "id": "4f5dc876",
   "metadata": {},
   "outputs": [],
   "source": [
    "# Your code here\n",
    "def your_function_28():\n",
    "    pass"
   ]
  },
  {
   "cell_type": "markdown",
   "id": "2007915f",
   "metadata": {},
   "source": [
    "### Question 29\n",
    "Write a function that computes the 95% confidence interval for the mean of a list of numbers assuming normal distribution."
   ]
  },
  {
   "cell_type": "code",
   "execution_count": null,
   "id": "8634dc63",
   "metadata": {},
   "outputs": [],
   "source": [
    "# Your code here\n",
    "def your_function_29():\n",
    "    pass"
   ]
  },
  {
   "cell_type": "markdown",
   "id": "08df3afb",
   "metadata": {},
   "source": [
    "### Question 30\n",
    "Given a list of categorical values, create a frequency distribution dictionary."
   ]
  },
  {
   "cell_type": "code",
   "execution_count": null,
   "id": "c9b88531",
   "metadata": {},
   "outputs": [],
   "source": [
    "# Your code here\n",
    "def your_function_30():\n",
    "    pass"
   ]
  }
 ],
 "metadata": {
  "kernelspec": {
   "display_name": "Python 3 (ipykernel)",
   "language": "python",
   "name": "python3"
  },
  "language_info": {
   "codemirror_mode": {
    "name": "ipython",
    "version": 3
   },
   "file_extension": ".py",
   "mimetype": "text/x-python",
   "name": "python",
   "nbconvert_exporter": "python",
   "pygments_lexer": "ipython3",
   "version": "3.12.5"
  }
 },
 "nbformat": 4,
 "nbformat_minor": 5
}
